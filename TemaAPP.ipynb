{
 "cells": [
  {
   "cell_type": "code",
   "execution_count": 2,
   "metadata": {},
   "outputs": [
    {
     "data": {
      "text/plain": [
       "[<matplotlib.lines.Line2D at 0x7f402bf40210>]"
      ]
     },
     "execution_count": 2,
     "metadata": {},
     "output_type": "execute_result"
    },
    {
     "data": {
      "image/png": "[encoded data removed]",
      "text/plain": [
       "<Figure size 432x288 with 1 Axes>"
      ]
     },
     "metadata": {
      "needs_background": "light"
     },
     "output_type": "display_data"
    }
   ],
   "source": [
    "import matplotlib.pyplot as plt\n",
    "from random import randint\n",
    "\n",
    "# Generate input points and print them in a file\n",
    "\n",
    "# Number of clusters\n",
    "K = 3\n",
    "\n",
    "N_of_Points = 30\n",
    "\n",
    "points = [(randint(7, 13), randint(22, 35)) for i in range(10)]\n",
    "\n",
    "points.extend([(randint(0, 8), randint(0, 11)) for i in range(10)])\n",
    "\n",
    "points.extend([(randint(15, 23), randint(0, 11)) for i in range(10)])\n",
    "\n",
    "f = open('input.txt', 'w')\n",
    "f.write(str(K) + '\\n')\n",
    "f.write(str(N_of_Points) + '\\n')\n",
    "for x in points:\n",
    "    f.write(str(x[0]) + \" \" + str(x[1]) + \"\\n\")\n",
    "f.close()\n",
    "l1 = [x[0] for x in points]\n",
    "l2 = [x[1] for x in points]\n",
    "\n",
    "plt.plot(l1, l2, 's')\n"
   ]
  },
  {
   "cell_type": "code",
   "execution_count": 3,
   "metadata": {},
   "outputs": [
    {
     "data": {
      "text/plain": [
       "[<matplotlib.lines.Line2D at 0x7f402beaff50>]"
      ]
     },
     "execution_count": 3,
     "metadata": {},
     "output_type": "execute_result"
    },
    {
     "data": {
      "image/png": "[encoded data removed]",
      "text/plain": [
       "<Figure size 432x288 with 1 Axes>"
      ]
     },
     "metadata": {
      "needs_background": "light"
     },
     "output_type": "display_data"
    }
   ],
   "source": [
    "l = [[], [], [], [], [], []]\n",
    "\n",
    "f = open('output.txt', 'r')\n",
    "\n",
    "for i in range(N_of_Points):\n",
    "    col = int(f.readline())\n",
    "    \n",
    "    l[col * 2].append(points[i][0])\n",
    "    l[col * 2 + 1].append(points[i][1])\n",
    "f.close()\n",
    "plt.plot(l[0], l[1], 's', color='b')\n",
    "plt.plot(l[2], l[3], 's', color='g')\n",
    "plt.plot(l[4], l[5], 's', color='r')"
   ]
  },
  {
   "cell_type": "code",
   "execution_count": 16,
   "metadata": {},
   "outputs": [
    {
     "data": {
      "text/plain": [
       "[<matplotlib.lines.Line2D at 0x7f402b844690>]"
      ]
     },
     "execution_count": 16,
     "metadata": {},
     "output_type": "execute_result"
    },
    {
     "data": {
      "image/png": "[encoded data removed]",
      "text/plain": [
       "<Figure size 432x288 with 1 Axes>"
      ]
     },
     "metadata": {
      "needs_background": "light"
     },
     "output_type": "display_data"
    }
   ],
   "source": [
    "# Generate second input\n",
    "\n",
    "# Number of clusters\n",
    "K = 4\n",
    "\n",
    "N_of_Points = 40\n",
    "\n",
    "points = [(randint(0, 5), randint(25, 40)) for i in range(10)]\n",
    "\n",
    "points.extend([(randint(0, 5), randint(0, 8)) for i in range(10)])\n",
    "\n",
    "points.extend([(randint(15, 20), randint(0, 8)) for i in range(10)])\n",
    "\n",
    "points.extend([(randint(15, 20), randint(25, 40)) for i in range(10)])\n",
    "\n",
    "f = open('input.txt', 'w')\n",
    "f.write(str(K) + '\\n')\n",
    "f.write(str(N_of_Points) + '\\n')\n",
    "for x in points:\n",
    "    f.write(str(x[0]) + \" \" + str(x[1]) + \"\\n\")\n",
    "f.close()\n",
    "l1 = [x[0] for x in points]\n",
    "l2 = [x[1] for x in points]\n",
    "\n",
    "plt.plot(l1, l2, 's')"
   ]
  },
  {
   "cell_type": "code",
   "execution_count": 17,
   "metadata": {},
   "outputs": [
    {
     "data": {
      "text/plain": [
       "[<matplotlib.lines.Line2D at 0x7f402b7c9550>]"
      ]
     },
     "execution_count": 17,
     "metadata": {},
     "output_type": "execute_result"
    },
    {
     "data": {
      "image/png": "[encoded data removed]",
      "text/plain": [
       "<Figure size 432x288 with 1 Axes>"
      ]
     },
     "metadata": {
      "needs_background": "light"
     },
     "output_type": "display_data"
    }
   ],
   "source": [
    "l = [[], [], [], [], [], [], [], []]\n",
    "\n",
    "f = open('output.txt', 'r')\n",
    "\n",
    "for i in range(N_of_Points):\n",
    "    col = int(f.readline())\n",
    "    \n",
    "    l[col * 2].append(points[i][0])\n",
    "    l[col * 2 + 1].append(points[i][1])\n",
    "f.close()\n",
    "plt.plot(l[0], l[1], 's', color='b')\n",
    "plt.plot(l[2], l[3], 's', color='g')\n",
    "plt.plot(l[4], l[5], 's', color='r')\n",
    "plt.plot(l[6], l[7], 's', color='y')"
   ]
  },
  {
   "cell_type": "code",
   "execution_count": null,
   "metadata": {},
   "outputs": [],
   "source": []
  }
 ],
 "metadata": {
  "kernelspec": {
   "display_name": "Python 3",
   "language": "python",
   "name": "python3"
  },
  "language_info": {
   "codemirror_mode": {
    "name": "ipython",
    "version": 3
   },
   "file_extension": ".py",
   "mimetype": "text/x-python",
   "name": "python",
   "nbconvert_exporter": "python",
   "pygments_lexer": "ipython3",
   "version": "3.7.4"
  }
 },
 "nbformat": 4,
 "nbformat_minor": 4
}
